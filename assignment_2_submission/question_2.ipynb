{
 "cells": [
  {
   "cell_type": "markdown",
   "metadata": {
    "id": "YCEqK9DXO24f"
   },
   "source": [
    "# **Q2: Kernel PCA** (30 Marks)\n",
    "\n",
    "_Background content related to this question can be found in Sections 12.1.4 and 12.3 of Bishop's book._\n",
    "## **KPCA Section 1: Theory (Eigen vectors of the kernel and the feature covariance)**\n",
    "###  Question 2.1 [5 Marks]\n",
    "\n",
    "Given d-dimensional input data $\\{\\mathbf{x}_i \\in  \\mathbb{R}^d, i=1,\\ldots,N \\}$. \n",
    "Define input matrix $\\mathbf{X}=[\\mathbf{x}_1^\\top;\\ldots;\\mathbf{x}_N^\\top]$ with $\\mathbf{X} \\in \\mathbb{R}^{N \\times d}$, here semicolon means concatenating rows to form a matrix. \n",
    "Define non-linear feature function $\\phi: \\mathbb{R}^{d} \\to \\mathbb{R}^{k}$, where $\\phi(\\mathbf{x}_i) \\in  \\mathbb{R}^{k}$ is the feature map for the _i_-th input data. Feature matrix $\\mathbf{\\Phi} \\in \\mathbb{R}^{N \\times k}$ is defined as $\\mathbf{\\Phi}=[\\phi(\\mathbf{x}_1)^\\top;\\ldots;\\phi(\\mathbf{x}_N)^\\top]$.\n",
    "\n",
    "Let's assume that feature vectors $\\mathbf{\\Phi}$ are centered. Denote its covariance matrix as $\\tilde C = \\mathbf{\\Phi}^\\top \\mathbf{\\Phi}$. From Chapter 6 and 7 we also know that the kernel matrix can be defined as $\\mathbf{K} = \\mathbf{\\Phi} \\mathbf{\\Phi}^\\top$. \n",
    "\n",
    "Take a non-zero eigen value of $\\mathbf{K}$, denote it as $\\lambda_j$, with the corresonding eigen vector $\\mathbf{v}_j$ normalised to unit length, i.e. $\\mathbf{v}_j^\\top \\mathbf{v}_j=1$. \n",
    "\n",
    "Show that there exists an eigen vector $\\mathbf{u}_j$ such that $\\tilde C\\mathbf{u}_j = \\lambda_j \\mathbf{u}_j$, with the property that $\\|\\mathbf{u}_j\\|^2 = \\lambda_j$.\n",
    "\n",
    "\n",
    "\n",
    "**Solution:**"
   ]
  },
  {
   "cell_type": "markdown",
   "metadata": {
    "id": "ZpYb7iNgPa2M"
   },
   "source": [
    "\n",
    "{Type your solution here}\n",
    "\n",
    "We have $\\mathbf{K} = \\mathbf{\\Phi} \\mathbf{\\Phi}^\\top$, $\\tilde C = \\mathbf{\\Phi}^\\top \\mathbf{\\Phi}$. with $\\mathbf{X} \\in \\mathbb{R}^{N \\times d}$, \n",
    " $\\mathbf{\\Phi} \\in \\mathbb{R}^{N \\times d}$, $\\mathbf{K} \\in \\mathbb{R}^{N \\times N}$ ,$\\tilde C \\in \\mathbb{R}^{d \\times d}$ :\n",
    "\n",
    "$$\n",
    "\\mathbf{K}\\lambda_j=\\lambda_j\\mathbf{v}_j \\\\\n",
    "\\Rightarrow \\mathbf{\\Phi} \\mathbf{\\Phi}^\\top\\lambda_j=\\lambda_j\\mathbf{v}_j \\\\\n",
    "\\Rightarrow \\mathbf{\\Phi}^\\top\\mathbf{\\Phi} \\mathbf{\\Phi}^\\top\\lambda_j=\\lambda_j\\mathbf{\\Phi}^\\top\\mathbf{v}_j\\\\\n",
    "\\Rightarrow \\tilde C \\mathbf{\\Phi}^\\top\\lambda_j=\\lambda_j\\mathbf{\\Phi}^\\top\\mathbf{v}_j\\\\\n",
    "$$\n",
    "$$\n",
    "\\text{Thus, we could treat $\\mathbf{\\Phi}^\\top\\mathbf{v}_j$ as $\\mathbf{u}_j$.}\\\\\n",
    "\\text{Since $\\mathbf{K}$ is symmetric, we could apply the eigenvalue decomposition to it,}\\\\ \n",
    "\\text{i.e., $\\mathbf{K}=\\mathbf{V}\\mathbf{\\Lambda}\\mathbf{V}^\\top$, where $\\mathbf{V}=[\\mathbf{v}_1, \\mathbf{v}_2, \\mathbf{v}_3, ..., \\mathbf{v}_d]$ is orthonormal and $\\mathbf{\\Lambda}=diag(\\mathbf{\\lambda}_1,\\mathbf{\\lambda}_2,\\mathbf{\\lambda}_3,...,\\mathbf{\\lambda}_d)$ is diagonal.} \\\\\n",
    "\\Rightarrow \\|\\mathbf{u}_j\\|^2 = \\mathbf{v}_j^\\top\\mathbf{\\Phi}\\mathbf{\\Phi}^\\top\\mathbf{v}_j = \\mathbf{v}_j^\\top\\mathbf{K}\\mathbf{v}_j = \\mathbf{v}_j^\\top\\mathbf{V}\\mathbf{\\Lambda}\\mathbf{V}^\\top\\mathbf{v}_j \\text{, and $\\mathbf{v}_j$ is a column of $\\mathbf{V}$.} \\\\\n",
    "\\Rightarrow \\|\\mathbf{u}_j\\|^2 = \\mathbf{\\lambda}_1\\mathbf{v}_j^\\top\\mathbf{v}_1\\mathbf{v}_1^\\top\\mathbf{v}_j + \\mathbf{\\lambda}_2\\mathbf{v}_j^\\top\\mathbf{v}_2\\mathbf{v}_2^\\top\\mathbf{v}_j + ... + \\mathbf{\\lambda}_d\\mathbf{v}_j^\\top\\mathbf{v}_d\\mathbf{v}_d^\\top\\mathbf{v}_j   \n",
    "$$ \n",
    "\n",
    "$$\n",
    "\\because \\mathbf{V}=[\\mathbf{v}_1, \\mathbf{v}_2, \\mathbf{v}_3, ..., \\mathbf{v}_d] \\text{ is orthonormal,}\\\\\n",
    "\\therefore \\mathbf{v}_j^\\top\\mathbf{v}_i = \n",
    "\\begin{cases}  \n",
    "1 & i = j \\\\\n",
    "0 & i \\neq j \\\\\n",
    "\\end{cases}\n",
    "$$\n",
    "\n",
    "$$\n",
    "\\Rightarrow \\|\\mathbf{u}_j\\|^2 = \\mathbf{\\lambda}_1\\mathbf{v}_j^\\top\\mathbf{v}_1\\mathbf{v}_1^\\top\\mathbf{v}_j + \\mathbf{\\lambda}_2\\mathbf{v}_j^\\top\\mathbf{v}_2\\mathbf{v}_2^\\top\\mathbf{v}_j + ... + \\mathbf{\\lambda}_d\\mathbf{v}_j^\\top\\mathbf{v}_d\\mathbf{v}_d^\\top\\mathbf{v}_j  \\\\\n",
    "= 0 + 0 + ... + 1 * \\mathbf{\\lambda}_j + ... +0 = \\mathbf{\\lambda}_j\n",
    "$$\n",
    "\n",
    "So, there exists an eigen vector $\\mathbf{u}_j$ such that $\\tilde C\\mathbf{u}_j = \\lambda_j \\mathbf{u}_j$, with the property that $\\|\\mathbf{u}_j\\|^2 = \\lambda_j$."
   ]
  },
  {
   "cell_type": "markdown",
   "metadata": {
    "id": "5NN-D9WlQH9d"
   },
   "source": [
    "\n",
    "\n",
    "## **KPCA Section 2: Programming**\n",
    "#### **Notes**: Do **NOT** change function names and parameters where you are told to fill in.\n",
    "In this section, we will implement kernel PCA to transform the data and consider the concentric ring dataset as an example. The concentric ring dataset in $\\mathbb{R}^2$ consists of $N$ datapoints with three different labels (red, blue, and green). We define an input matrix $\\mathbf{X}=[\\mathbf{x}_1^\\top;\\ldots;\\mathbf{x}_N^\\top]$ with $\\mathbf{X} \\in \\mathbb{R}^{N \\times 2}$ and $\\mathbf{y}\\in \\mathbb{R}^N$ as a vector containing labels.  \n",
    "\n",
    " The code below visualises the dataset. \n",
    "\n",
    "(You are not allowed to import other modules except defined below)  "
   ]
  },
  {
   "cell_type": "code",
   "execution_count": 1,
   "metadata": {
    "id": "04E4FUWeQZtv"
   },
   "outputs": [],
   "source": [
    "import numpy as np\n",
    "import matplotlib.pyplot as plt\n",
    "import math"
   ]
  },
  {
   "cell_type": "code",
   "execution_count": 2,
   "metadata": {
    "id": "QMQ4BSrUQU-X"
   },
   "outputs": [],
   "source": [
    "# This function is to visualise the data (Please do not change) \n",
    "def plot_data(X, y):\n",
    "  plt.figure()\n",
    "  plt.subplot(1, 1, 1 )\n",
    "    \n",
    "  reds = y == 0\n",
    "  blues = y == 1\n",
    "  green = y == 2\n",
    "\n",
    "  plt.scatter(X[reds, 0], X[reds, 1], c=\"red\",\n",
    "              s=20, edgecolor='k')\n",
    "  plt.scatter(X[blues, 0], X[blues, 1], c=\"blue\",\n",
    "              s=20, edgecolor='k')\n",
    "  plt.scatter(X[green, 0], X[green, 1], c=\"green\",\n",
    "              s=20, edgecolor='k')\n",
    "  plt.xlabel(\"$x_1$\")\n",
    "  plt.ylabel(\"$x_2$\")\n",
    "\n",
    "  plt.show()"
   ]
  },
  {
   "cell_type": "code",
   "execution_count": 3,
   "metadata": {
    "id": "q7D_9-hWYaHq"
   },
   "outputs": [
    {
     "data": {
      "image/png": "[encoded data removed]",
      "text/plain": [
       "<Figure size 432x288 with 1 Axes>"
      ]
     },
     "metadata": {
      "needs_background": "light"
     },
     "output_type": "display_data"
    }
   ],
   "source": [
    "# This function is create the concentric ring data (Please do not change)\n",
    "def make_circles(n_samples=100, factor=2):\n",
    "    n_samples_out = n_samples // 8\n",
    "    n_samples_in2 = n_samples // 3\n",
    "    n_samples_in = n_samples // 6\n",
    "\n",
    "    generator = np.random.RandomState(100)\n",
    "    linspace_out = np.linspace(0, 2 * np.pi, n_samples_out, endpoint=False)\n",
    "    linspace_in = np.linspace(0, 2 * np.pi, n_samples_in, endpoint=False)\n",
    "    linspace_in2 = np.linspace(0, 2 * np.pi, n_samples_in2, endpoint=False)\n",
    "    red_circ_x = np.cos(linspace_out)\n",
    "    red_circ_y = np.sin(linspace_out)\n",
    "    blue_circ_x = np.cos(linspace_in) * factor\n",
    "    blue_circ_y = np.sin(linspace_in) * factor\n",
    "    green_circ_x = np.cos(linspace_in2) * factor*2\n",
    "    green_circ_y = np.sin(linspace_in2) * factor*2\n",
    "\n",
    "    X = np.vstack([np.append(np.append(red_circ_x, blue_circ_x), green_circ_x),\n",
    "                   np.append(np.append(red_circ_y, blue_circ_y), green_circ_y)]).T\n",
    "    y = np.hstack([np.zeros(n_samples_out, dtype=np.intp),\n",
    "                   np.ones(n_samples_in, dtype=np.intp), np.ones(n_samples_in2, dtype=np.intp)*2])\n",
    "\n",
    "    X += generator.normal(scale=0.1, size=X.shape)\n",
    "\n",
    "    return np.array(X), np.array(y)\n",
    "\n",
    "# X is the input matrix (N x d) and y is the label (red/blue/green)\n",
    "X, y = make_circles(n_samples=180)\n",
    "plot_data(X, y)\n"
   ]
  },
  {
   "cell_type": "markdown",
   "metadata": {
    "id": "5hGP4II8r0Oq"
   },
   "source": [
    "Notice that this dataset is not linearly separable. We can consider the kernel method to make the dataset to be linearly separable.\n",
    "We try to transform the ring dataset to be linearly separable using kernel PCA. We define the basis function $\\phi: \\mathbb{R}^2 \\to \\mathbb{R}^k$ to transform an input vector $\\mathbf{x}_i$, and denote a matrix of features as $\\mathbf{\\Phi}=[\\phi(\\mathbf{x}_1)^\\top;\\ldots;\\phi(\\mathbf{x}_N)^\\top]$. Here the kernel function is defined $\\mathbb{k}(\\mathbf{x}_i,\\mathbf{x}_j) = \\phi(\\mathbf{x}_i)^\\top \\phi(\\mathbf{x}_j)$.\n",
    "In these questions, we employ polynomial and radial basis functions as kernel functions.\n",
    " \n",
    "\n",
    "### Question 2.2 [ 5 Marks]\n",
    "\n",
    "Consider a 3rd-order polynomial kernel function:\n",
    "$$\\mathbb{k}(\\mathbf{x}_i,\\mathbf{x}_j) = (\\mathbf{x}_i^\\top \\mathbf{x}_j + 3)^3.$$\n",
    "\n",
    "Find the basis function $\\phi$ for this kernel (See Bishop Sec 6.2), show your workings.\n",
    "What is the feature dimensionality $k$ after mapping with the basis function?\n",
    "\n",
    "**Solution:**\n"
   ]
  },
  {
   "cell_type": "markdown",
   "metadata": {
    "id": "xbYzJ5j1R5lw"
   },
   "source": [
    "{Type your solution here}\n",
    "$$\\mathbb{k}(\\mathbf{x}_i,\\mathbf{x}_j) = (\\mathbf{x}_i^\\top \\mathbf{x}_j + 3)^3 \n",
    "= (\\sum_{k=1}^N \\mathbf{x}_{ik}\\mathbf{x}_{jk}+3)^3 \\text{ where $N$ is the dimension of the original data.}  $$\n",
    "\n",
    "$$ = (\\sum_{k=1}^N \\mathbf{x}_{ik} \\mathbf{x}_{jk})^3 + 9(\\sum_{k=1}^N \\mathbf{x}_{ik} \\mathbf{x}_{jk})^2 \n",
    "+ 27\\sum_{k=1}^N \\mathbf{x}_{ik} \\mathbf{x}_{jk} + 27$$  \n",
    "\n",
    "In this problem, we have known that $N = 2$, so the equation could be rewrited into :\n",
    "\n",
    "$$\\mathbb{k}(\\mathbf{x}_i,\\mathbf{x}_j) = (\\mathbf{x}_{i1} \\mathbf{x}_{j1} + \\mathbf{x}_{i2} \\mathbf{x}_{j2})^3\n",
    "+ 9(\\mathbf{x}_{i1} \\mathbf{x}_{j1} + \\mathbf{x}_{i2} \\mathbf{x}_{j2})^2 + \n",
    "27(\\mathbf{x}_{i1} \\mathbf{x}_{j1} + \\mathbf{x}_{i2} \\mathbf{x}_{j2}) + 27$$  \n",
    "\n",
    "$$ = ((\\mathbf{x}_{i1} \\mathbf{x}_{j1})^3 + 3(\\mathbf{x}_{i1} \\mathbf{x}_{j1})^2(\\mathbf{x}_{i2}\\mathbf{x}_{j2}) \n",
    "+ 3(\\mathbf{x}_{i1} \\mathbf{x}_{j1})(\\mathbf{x}_{i2}\\mathbf{x}_{j2})^2 \n",
    "+(\\mathbf{x}_{i2} \\mathbf{x}_{j2})^3)\n",
    "+ 9((\\mathbf{x}_{i1} \\mathbf{x}_{j1})^2 + 2(\\mathbf{x}_{i1} \\mathbf{x}_{j1})(\\mathbf{x}_{i2} \\mathbf{x}_{j2}) +(\\mathbf{x}_{i2} \\mathbf{x}_{j2})^2) \n",
    "+ 27(\\mathbf{x}_{i1} \\mathbf{x}_{j1} + \\mathbf{x}_{i2} \\mathbf{x}_{j2}) + 27$$  \n",
    "\n",
    "$$ = \\mathbf{x}_{i1}^3\\mathbf{x}_{j1}^3+ 3\\mathbf{x}_{i1}^2\\mathbf{x}_{i2}\\mathbf{x}_{j1}^2\\mathbf{x}_{j2} \n",
    "+ 3\\mathbf{x}_{i1}\\mathbf{x}_{i2}^2\\mathbf{x}_{j1}\\mathbf{x}_{j2}^2 +\\mathbf{x}_{i2}^3\\mathbf{x}_{j2}^3\n",
    "+ 9\\mathbf{x}_{i1}^2 \\mathbf{x}_{j1}^2 + 18\\mathbf{x}_{i1}\\mathbf{x}_{i2}\\mathbf{x}_{j1}\\mathbf{x}_{j2} + 9\\mathbf{x}_{i2}^2\\mathbf{x}_{j2}^2  \n",
    "+ 27\\mathbf{x}_{i1}\\mathbf{x}_{j1} + 27\\mathbf{x}_{i2}\\mathbf{x}_{j2} + 27$$  \n",
    "\n",
    "$$\n",
    "=(\\mathbf{x}_{i1}^3, \\sqrt{3}\\mathbf{x}_{i1}^2\\mathbf{x}_{i2}, \\sqrt{3}\\mathbf{x}_{i1}\\mathbf{x}_{i2}^2, \\mathbf{x}_{i2}^3, 3\\mathbf{x}_{i1}^2,  \n",
    " 3\\sqrt{2}\\mathbf{x}_{i1}\\mathbf{x}_{i2}, 3\\mathbf{x}_{i2}^2, 3\\sqrt{3}\\mathbf{x}_{i1}, 3\\sqrt{3}\\mathbf{x}_{i2}, 3\\sqrt{3})\\\\\n",
    " (\\mathbf{x}_{j1}^3, \\sqrt{3}\\mathbf{x}_{j1}^2\\mathbf{x}_{j2}, \\sqrt{3}\\mathbf{x}_{j1}\\mathbf{x}_{j2}^2, \\mathbf{x}_{j2}^3, 3\\mathbf{x}_{j1}^2,  \n",
    " 3\\sqrt{2}\\mathbf{x}_{j1}\\mathbf{x}_{j2}, 3\\mathbf{x}_{j2}^2, 3\\sqrt{3}\\mathbf{x}_{j1}, 3\\sqrt{3}\\mathbf{x}_{j2}, 3\\sqrt{3})^\\top\n",
    "$$\n",
    "\n",
    "So, we could find that the basis function is :\n",
    "\n",
    "$$\n",
    "\\phi(\\mathbf{x})=(\\mathbf{x}_{1}^3, \\sqrt{3}\\mathbf{x}_{1}^2\\mathbf{x}_{2}, \\sqrt{3}\\mathbf{x}_{1}\\mathbf{x}_{2}^2, \\mathbf{x}_{2}^3, 3\\mathbf{x}_{1}^2,  \n",
    " 3\\sqrt{2}\\mathbf{x}_{1}\\mathbf{x}_{2}, 3\\mathbf{x}_{2}^2, 3\\sqrt{3}\\mathbf{x}_{1}, 3\\sqrt{3}\\mathbf{x}_{2}, 3\\sqrt{3})^\\top\n",
    "$$\n",
    "\n",
    "And the feature dimensionality  𝑘  after mapping with the basis function is 10."
   ]
  },
  {
   "cell_type": "markdown",
   "metadata": {
    "id": "zSo7M4O8Rz0p"
   },
   "source": [
    "### Question 2.3 [10 Marks]\n",
    "\n",
    "As we know that there are a kernel matrix and a covariance matrix. Below, we implement kernel PCA by computing the kernel matrix with the basis function $\\phi$ and the kernel function $\\mathbb{k}(\\mathbf{x_i},\\mathbf{x}_j)$ using the polynomial function in Question 2.2. Afterwards, the data is projected using PCA. \n",
    "<br/>\n",
    "**Solution:**\n",
    "\n"
   ]
  },
  {
   "cell_type": "code",
   "execution_count": 4,
   "metadata": {
    "id": "o-5HSpJY3d3-"
   },
   "outputs": [],
   "source": [
    "# Solution: code for computing the kernel matrix using the basis function \n",
    "def polynomial_basis_transformation(X):\n",
    "    # Input: An input matrix N x 2\n",
    "    # Output: A kernel matrix \n",
    "    # Transform the input X and apply the basis function phi \n",
    "    ####  TODO {Type your solution here} ###\n",
    "    N = X.shape[0]\n",
    "    phi_matrix = np.zeros((N,10))\n",
    "    for i in range(N):\n",
    "        x1 = X[i, 0]\n",
    "        x2 = X[i, 1]\n",
    "        phi_matrix[i,:] = np.array([x1**3, x2**3, 27**0.5, (3**0.5)*(x1**2)*x2, (3**0.5)*x1*(x2**2),3*x1**2, 3*x2**2, \n",
    "                               27**0.5*x1, 27**0.5*x2, 18**0.5*x1*x2])\n",
    "    kernel_matrix = phi_matrix@phi_matrix.T\n",
    "    # Doing Centering\n",
    "    Ones_N =  np.ones((N,N))/N\n",
    "    kernel_bar = kernel_matrix - Ones_N@kernel_matrix - kernel_matrix@Ones_N + Ones_N@kernel_matrix@Ones_N # by 12.85 in Bishop\n",
    "    return  kernel_bar"
   ]
  },
  {
   "cell_type": "code",
   "execution_count": 5,
   "metadata": {
    "id": "N6zmtPpT5OV1"
   },
   "outputs": [],
   "source": [
    "# Solution: code for computing the kernel matrix using the kernel function \n",
    "def polynomial_kernel(X):\n",
    "    # Input: An input matrix N x 2\n",
    "    # Output: A kernel matrix \n",
    "    # Compute the kernel function to X\n",
    "    ####  TODO {Type your solution here} ###\n",
    "    N = X.shape[0]\n",
    "    kernel_matrix = np.zeros((N, N))\n",
    "    for i in range(N):\n",
    "        for j in range(N):\n",
    "            kernel_matrix[i,j] = (X[i,:].reshape(1,-1) @ X[j,:].reshape(-1,1) + 3)**3\n",
    "    # Doing Centering\n",
    "    Ones_N =  np.ones((N,N))/N\n",
    "    kernel_bar = kernel_matrix - Ones_N@kernel_matrix - kernel_matrix@Ones_N + Ones_N@kernel_matrix@Ones_N # by 12.85 in Bishop\n",
    "    return  kernel_bar"
   ]
  },
  {
   "cell_type": "code",
   "execution_count": 6,
   "metadata": {
    "id": "vblkcnA6SFsp"
   },
   "outputs": [
    {
     "data": {
      "image/png": "[encoded data removed]",
      "text/plain": [
       "<Figure size 432x288 with 1 Axes>"
      ]
     },
     "metadata": {
      "needs_background": "light"
     },
     "output_type": "display_data"
    },
    {
     "data": {
      "image/png": "[encoded data removed]",
      "text/plain": [
       "<Figure size 432x288 with 1 Axes>"
      ]
     },
     "metadata": {
      "needs_background": "light"
     },
     "output_type": "display_data"
    }
   ],
   "source": [
    "# Solution to data projection \n",
    "def pca_projection(X, func):\n",
    "    # Your answer: Calculating the kernel matrix \n",
    "    # Output: The projected points in R^2\n",
    "    ####  TODO {Type your solution here} ###\n",
    "    \n",
    "    kernel = func(X) \n",
    "    \n",
    "    lamdas, vec_u = np.linalg.eigh(kernel) # Using np.linalg.eigh to eliminate complex numbers\n",
    "    surviving_index = np.argsort(-lamdas)[:2]\n",
    "    surviving_lamdas = lamdas[surviving_index]\n",
    "    surviving_u = vec_u[:, surviving_index] * (1/np.sqrt(surviving_lamdas)) # doing normalization\n",
    "    projection = (surviving_u.T @ kernel).T\n",
    "    return projection\n",
    "\n",
    "# Please do NOT change the code below\n",
    "# Calculate the projection with parameters: an input matrix and a function \n",
    "projected_X_poly_kernel = pca_projection(X, polynomial_kernel)\n",
    "plot_data(projected_X_poly_kernel, y)\n",
    "\n",
    "# Calculate the projection with parameters: an input matrix and a function\n",
    "projected_X_poly_basis = pca_projection(X, polynomial_basis_transformation)\n",
    "plot_data(projected_X_poly_basis, y)"
   ]
  },
  {
   "cell_type": "markdown",
   "metadata": {
    "id": "vbZwt-uFT48R"
   },
   "source": [
    "\n",
    "In Question 2.4 and 2.5, we consider to use the Radial Basis Function (RBF) kernel. We define the kernel function as:\n",
    "  $$\\mathbb{k}(\\mathbf{x}_i,\\mathbf{x}_j)=\\mathrm{exp}(-\\gamma \\|\\mathbf{x}_i-\\mathbf{x}_j\\|^2),$$ where $\\gamma$ is a parameter to control the radius of the kernel. The result of the projected data is highly dependent on the value of $\\gamma$.\n",
    "\n",
    "### Question 2.4 [5 Marks]\n",
    "Try to implement (similar in Question 2.3) data projection using kernel PCA from an input matrix $\\mathbf{X}$ but now the kernel function is RBF. In this question, we set $\\gamma=10$. \n",
    "\n",
    "\n",
    "**Solution:**"
   ]
  },
  {
   "cell_type": "code",
   "execution_count": 7,
   "metadata": {
    "id": "bb76SScnUs-r"
   },
   "outputs": [
    {
     "data": {
      "image/png": "[encoded data removed]",
      "text/plain": [
       "<Figure size 432x288 with 1 Axes>"
      ]
     },
     "metadata": {
      "needs_background": "light"
     },
     "output_type": "display_data"
    }
   ],
   "source": [
    "# Solution to data projection \n",
    "def projection_rbf_kpca(X, gamma):\n",
    "    # Your answer: Implement and compute the kernel matrix using RBF then projecting the data\n",
    "    # Output: The projected points in R^2\n",
    "    #### TODO {Type your solution here} ###\n",
    "    kernel = RBF_Kernel(X, gamma) \n",
    "    \n",
    "    lamdas, vec_u = np.linalg.eigh(kernel) # Using np.linalg.eigh to eliminate complex numbers\n",
    "    surviving_index = np.argsort(-lamdas)[:2]\n",
    "    surviving_lamdas = lamdas[surviving_index]\n",
    "    surviving_u = vec_u[:, surviving_index] * (1/np.sqrt(surviving_lamdas)) # doing normalization\n",
    "#     projection = (surviving_u.T @ kernel).T\n",
    "    projection = (kernel @ surviving_u)\n",
    "    return projection\n",
    "\n",
    "def RBF_Kernel(X,gamma):\n",
    "    N = X.shape[0]\n",
    "    kernel_matrix = np.zeros((N, N))\n",
    "    for i in range(N):\n",
    "        for j in range(N):\n",
    "            kernel_matrix[i,j] = np.exp(-gamma*(np.linalg.norm(X[i,:] - X[j,:])**2))\n",
    "    # Doing Centering\n",
    "    Ones_N =  np.ones((N,N))/N\n",
    "    kernel_bar = kernel_matrix - Ones_N@kernel_matrix - kernel_matrix@Ones_N + Ones_N@kernel_matrix@Ones_N # by 12.85 in Bishop\n",
    "    return  kernel_bar\n",
    "\n",
    "\n",
    "# Please do NOT change the code below\n",
    "# Calculate the projection with parameters: an input matrix and a function \n",
    "projected_X_rbf = projection_rbf_kpca(X, gamma=10)\n",
    "plot_data(projected_X_rbf, y)"
   ]
  },
  {
   "cell_type": "markdown",
   "metadata": {
    "id": "e41lPDZyB44l"
   },
   "source": [
    "### Question 2.5 [5 Marks]\n",
    "In Question 2.4, it is not clearly visible that the visualisation shows the projected data linearly separable. Try to find the value for $\\gamma$, and the visualisation should **CLEARLY** shows that the projected data is linearly separable.\n",
    "\n",
    "\n",
    "**Solution:**"
   ]
  },
  {
   "cell_type": "code",
   "execution_count": 8,
   "metadata": {
    "id": "fxbAO1TNDQ3b"
   },
   "outputs": [
    {
     "data": {
      "image/png": "[encoded data removed]",
      "text/plain": [
       "<Figure size 432x288 with 1 Axes>"
      ]
     },
     "metadata": {
      "needs_background": "light"
     },
     "output_type": "display_data"
    }
   ],
   "source": [
    "# Solution to find \\gamma\n",
    "# Set your gamma \n",
    "gamma = 0.5 #### TODO {Type your solution here} ### \n",
    "\n",
    "# Please do NOT change the code below\n",
    "# Calculate the projection with parameters: an input matrix and gamma\n",
    "projected_X_rbf = projection_rbf_kpca(X, gamma=gamma)\n",
    "plot_data(projected_X_rbf, y)"
   ]
  },
  {
   "cell_type": "code",
   "execution_count": null,
   "metadata": {},
   "outputs": [],
   "source": []
  }
 ],
 "metadata": {
  "colab": {
   "collapsed_sections": [],
   "name": "question_2.ipynb",
   "provenance": []
  },
  "kernelspec": {
   "display_name": "Python 3",
   "language": "python",
   "name": "python3"
  },
  "language_info": {
   "codemirror_mode": {
    "name": "ipython",
    "version": 3
   },
   "file_extension": ".py",
   "mimetype": "text/x-python",
   "name": "python",
   "nbconvert_exporter": "python",
   "pygments_lexer": "ipython3",
   "version": "3.7.9"
  }
 },
 "nbformat": 4,
 "nbformat_minor": 4
}
