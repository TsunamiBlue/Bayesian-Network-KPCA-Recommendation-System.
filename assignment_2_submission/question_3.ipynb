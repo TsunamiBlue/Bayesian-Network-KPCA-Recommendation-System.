{
 "cells": [
  {
   "cell_type": "markdown",
   "metadata": {},
   "source": [
    "## Q3: Recommender systems using AutoRec (30 Marks)\n",
    "\n",
    "For this question we will be extending the autoencoder (similar to week 6 labs) as a recommender system. To do this, we will be training small autoencoders on incomplete data, where the zeros in incomplete data does not effect training. \n",
    "\n",
    "The technique is detailed in the following [paper](https://users.cecs.anu.edu.au/~akmenon/papers/autorec/autorec-paper.pdf): Sedhain, S., Menon, A.K., Sanner, S. and Xie, L., 2015, May. _Autorec: Autoencoders meet collaborative filtering_. In Proceedings of the 24th international conference on World Wide Web (pp. 111-112).\n",
    "\n",
    "We assume that each row of data corresponds to a person and the columns correspond to an item to be recommended. The numeric value (positive or negative) in each element corresponds to a users rating of an item, i.e., positive for a good rating and negative for a bad rating. Some of these entries will be incomplete and our job is predict the ratings for a user of these incomplete entries.\n",
    "\n",
    "---"
   ]
  },
  {
   "cell_type": "code",
   "execution_count": 1,
   "metadata": {},
   "outputs": [],
   "source": [
    "# Imports\n",
    "import numpy as np\n",
    "\n",
    "import scipy\n",
    "import matplotlib.pyplot as plt\n",
    "\n",
    "from sklearn.model_selection import train_test_split\n",
    "\n",
    "from framework.question_3.activation import Sigmoid, ReLU\n",
    "from framework.question_3.realworld  import read_data\n",
    "from framework.question_3.synthetic  import generate_synthetic\n",
    "from framework.question_3.container  import Sequential\n",
    "from framework.question_3.batcher    import MaskBatcher\n",
    "from framework.question_3.linear     import Linear\n",
    "from framework.question_3.linalg     import FrobeniusNorm\n",
    "from framework.question_3.module     import Module\n",
    "from framework.question_3.loss       import Loss, MSELoss, WeightedSumLoss"
   ]
  },
  {
   "cell_type": "markdown",
   "metadata": {},
   "source": [
    "---\n",
    "This question makes heavy use of prebuilt neural network code (the long list of imports). Although similar, there are a few notable differences when comparing the classes presented in the lab. Most notably, `forward_pass` has been renamed to `forward` and `backward_pass` has been renamed to `backward`. There are also a few quality of life changes (see `__call__`, with more details [here](https://docs.python.org/3/reference/datamodel.html)).\n",
    "\n",
    "Full code of the framework is presented in `./framework/question_3`. Do **not** change the code here.\n",
    "\n",
    "**Important notes**:\n",
    " - All functions which have randomisation **requires random seeds to be specified**! Mark deduction will be made if this is not the case.\n",
    " - When asked to define functions or classes **do not** use any global variables. Only those which are presented in the input. Failure to do so may result in full mark penalties.\n",
    " - Plots **must be appropriately labelled**. Deduction apply.\n",
    " - **Do not** change the inputs of any of the skeleton code given. Full mark deduction may apply as a result.\n",
    " - For any files read in your functions, make sure to use a **relative path** from the root directory created from extracting the assignment.\n",
    "\n",
    "---"
   ]
  },
  {
   "cell_type": "markdown",
   "metadata": {},
   "source": [
    "## Synthetic Dataset\n",
    "We'll be using two different datasets. Firstly, we will be considering a synthetic dataset. "
   ]
  },
  {
   "cell_type": "code",
   "execution_count": 2,
   "metadata": {},
   "outputs": [
    {
     "data": {
      "image/png": "[encoded data removed]",
      "text/plain": [
       "<Figure size 432x288 with 1 Axes>"
      ]
     },
     "metadata": {
      "needs_background": "light"
     },
     "output_type": "display_data"
    }
   ],
   "source": [
    "NUM_POINTS = 10_000\n",
    "\n",
    "synthetic_data, categories = generate_synthetic(NUM_POINTS)"
   ]
  },
  {
   "cell_type": "markdown",
   "metadata": {},
   "source": [
    "You might want to explore the data, i.e., check dimensions and ranges."
   ]
  },
  {
   "cell_type": "code",
   "execution_count": 3,
   "metadata": {},
   "outputs": [
    {
     "name": "stdout",
     "output_type": "stream",
     "text": [
      "(10000, 5) (10000,)\n",
      "[0 0 0 ... 1 1 1]\n",
      "4.642699971783969 -7.486917514235948\n"
     ]
    }
   ],
   "source": [
    "# For you\n",
    "print(synthetic_data.shape, categories.shape)\n",
    "print(categories)\n",
    "print(np.max(synthetic_data),np.min(synthetic_data))\n"
   ]
  },
  {
   "cell_type": "markdown",
   "metadata": {},
   "source": [
    "Note that **all** the entries of the dataset are present. That is the data is **not** incomplete. To reiterate the introduction, we will represent missing data by 0. Your first task will be to make a function which randomly corrupts the data to make it missing."
   ]
  },
  {
   "cell_type": "markdown",
   "metadata": {},
   "source": [
    "### Question 3.1: Corrupting function (2 Marks)\n",
    "\n",
    "To corrupt the data, you will have to complete the function `generate_mask` below which generates a randomised mask (depending on the `percentage` specified). More specifically, given any dataset we want to generate the matrix $ M $ which maps:\n",
    "\n",
    "$$\n",
    "\\begin{bmatrix}\n",
    "d_{11} & d_{12} & \\cdots & d_{1N} \\\\\n",
    "d_{21} & d_{22} & \\cdots & d_{2N} \\\\\n",
    "\\vdots & & \\ddots\\\\\n",
    "d_{M1} & d_{M2} & \\cdots & d_{MN} \\\\\n",
    "\\end{bmatrix}\n",
    "\\odot\n",
    "M\n",
    "\\underbrace{\\longrightarrow}_{\\textrm{random }\\%}\n",
    "\\begin{bmatrix}\n",
    "d_{11} & 0 & \\cdots & d_{1N} \\\\\n",
    "0 & d_{22} & \\cdots & 0 \\\\\n",
    "\\vdots & & \\ddots\\\\\n",
    "0 & d_{M2} & \\cdots & 0 \\\\\n",
    "\\end{bmatrix}.\n",
    "$$\n",
    "\n",
    "Here $ \\odot $ is a pointwise multiplication of the matrices.\n",
    "\n",
    "`percentage` denotes the percentage of **missing** entries.\n",
    "\n",
    "This should work for any dataset (don't hard code any constants). Here \"dataset\" refers to any $ N \\times M $ numpy array."
   ]
  },
  {
   "cell_type": "code",
   "execution_count": 4,
   "metadata": {},
   "outputs": [],
   "source": [
    "def generate_observed_mask(dataset, percentage=0.1, seed=1337):\n",
    "    ### TODO ###\n",
    "    np.random.seed(seed)\n",
    "    M, N = dataset.shape\n",
    "    total_size = M*N\n",
    "    mask = np.ones(total_size)\n",
    "    mask[:int(percentage*total_size)] = 0\n",
    "    np.random.shuffle(mask)\n",
    "    mask = mask.reshape(M,N)\n",
    "    ### TODO ###\n",
    "\n",
    "    return mask"
   ]
  },
  {
   "cell_type": "markdown",
   "metadata": {},
   "source": [
    "---"
   ]
  },
  {
   "cell_type": "markdown",
   "metadata": {},
   "source": [
    "## Neural Network\n",
    "\n",
    "Now that we have considered how to prepare the data, we will now define the neural network for our recommender system. Your first task here will be to complete the recommender class, which is similar to the autoencoder you defined in the week 6 lab. Additionally, there are a methods you will have to define for recommender systems specifically."
   ]
  },
  {
   "cell_type": "markdown",
   "metadata": {},
   "source": [
    "### Question 3.2: Recommender NN (5 Mask)\n",
    "Complete the autoencoder recommender neural network. This include implmementing the `forward`, `backward`, `encode`, and `decode` methods, which should be very similar to the lab.\n",
    "\n",
    "Additionally you will need to implement the `recommend_rating` method, which completes the incomplete input vector `x`. This means that the output should be the same dimension as the input. Furthermore, the complete part of the input should be the same in the output."
   ]
  },
  {
   "cell_type": "code",
   "execution_count": 5,
   "metadata": {},
   "outputs": [],
   "source": [
    "class AERecommender(Module):\n",
    "    \n",
    "    def __init__(self, encoder, decoder):\n",
    "        self.encoder = encoder\n",
    "        self.decoder = decoder\n",
    "\n",
    "    def init_weights(self, seed):\n",
    "        self.encoder.init_weights(seed=seed)\n",
    "        self.decoder.init_weights(seed=seed+1)\n",
    "\n",
    "    def forward(self, x):\n",
    "        super().forward(x)\n",
    "        \n",
    "        ### TODO ###\n",
    "        encoded = self.encode(x)\n",
    "        value = self.decode(encoded)\n",
    "        ### TODO ###\n",
    "\n",
    "        return value\n",
    "\n",
    "    def backward(self, g_next_layer):\n",
    "        \n",
    "        ### TODO ###\n",
    "        back_grad = self.decoder.backward(g_next_layer)\n",
    "        back_grad = self.encoder.backward(back_grad)\n",
    "        ### TODO ###\n",
    "\n",
    "        return back_grad\n",
    "\n",
    "    def encode(self, x):\n",
    "        \n",
    "        ### TODO ###\n",
    "        encoded = self.encoder.forward(x)\n",
    "        ### TODO ###\n",
    "\n",
    "        return encoded\n",
    "    \n",
    "    def decode(self, z):\n",
    "\n",
    "        ### TODO ###\n",
    "        decoded = self.decoder.forward(z)\n",
    "        ### TODO ###\n",
    "        \n",
    "        return decoded\n",
    "    \n",
    "    def recommend_rating(self, x):\n",
    "\n",
    "        ### TODO ###\n",
    "        rating = self.forward(x)\n",
    "        for i in range(x.shape[0]):\n",
    "            if x[i] != 0 :\n",
    "                rating[0, i] = x[i]\n",
    "        ### TODO ###\n",
    "        \n",
    "        return rating\n",
    "\n",
    "    def update(self, learning_rate):\n",
    "        self.encoder.update(learning_rate)\n",
    "        self.decoder.update(learning_rate)"
   ]
  },
  {
   "cell_type": "markdown",
   "metadata": {},
   "source": [
    "We have specified the recommender system's architecture as per the paper. This can be expressed as:\n",
    "$$ \\mathrm{Incomplete} \\overset{\\mathrm{Sigmoid}}{\\underset{\\mathrm{Linear}}{\\longrightarrow}} Z = \\mathbb{R}^{2} \\overset{\\mathrm{Id}}{\\underset{\\mathrm{Linear}}{\\longrightarrow}} \\mathrm{Pred. Complete}. $$\n",
    "\n",
    "Or in equations:\n",
    "\n",
    "$$ h({\\mathbf r}; \\theta) = f({\\mathbf W} \\cdot g({\\mathbf V \\mathbf r} + {\\mathbf \\mu}) + {\\mathbf b}),$$\n",
    "where $ f = \\mathrm{Id} $ and $ g = \\mathrm{Sigmoid} $.\n",
    "\n",
    "Note: the `Sequential` class takes a list of neural network modules (of appropriate dimensions) and will apply them sequentially. So if we take a list `[f, g, h]`, then `Sequential([f, g, h])` will compose to output $ h(g(f(x))) = (h \\circ g \\circ f)(x) $."
   ]
  },
  {
   "cell_type": "code",
   "execution_count": 6,
   "metadata": {},
   "outputs": [],
   "source": [
    "def our_synthetic_recommender():\n",
    "    encoder_linear = Linear(5, 2)\n",
    "    decoder_linear = Linear(2, 5)\n",
    "    \n",
    "    my_encoder = Sequential([\n",
    "        encoder_linear,\n",
    "        Sigmoid()\n",
    "    ])\n",
    "    my_decoder = Sequential([\n",
    "        decoder_linear,\n",
    "    ])\n",
    "    \n",
    "    autoencoder = AERecommender(\n",
    "        encoder=my_encoder,\n",
    "        decoder=my_decoder\n",
    "    )\n",
    "\n",
    "    return autoencoder, encoder_linear, decoder_linear"
   ]
  },
  {
   "cell_type": "markdown",
   "metadata": {},
   "source": [
    "---\n",
    "\n",
    "## Loss function\n",
    "\n",
    "In the previous section we have defined a recommender neural network. However, we need a way to train it and, more specifically, we need to train it only using the complete ratings. In the paper, this is specified as:\n",
    "\n",
    "$$ \\sum_{i=1} \\Vert {\\mathbf r}^{(i)} - h({\\mathbf r}^{(i)}; \\theta) \\Vert_{\\mathcal{O}}^{2} + \\frac{\\lambda}{2} \\left( \\Vert {\\mathbf W} \\Vert_{F}^{2} + \\Vert {\\mathbf V} \\Vert_{F}^{2} \\right), $$\n",
    "where $ \\Vert \\cdot \\Vert_{\\mathcal{O}} $ only consider the contribution of the observed rating and $ \\Vert \\cdot \\Vert_{F} $ is the Frobenious norm (this have been implemented for you). Further $ {\\mathbf W} $ and $ {\\mathbf V} $ corresponds to matrix weights of linear layers.\n",
    "\n",
    "We will be modifying the MSE loss function for this. However, first we will define a generic class which will mask the influence of any loss function to only account for the observed components."
   ]
  },
  {
   "cell_type": "markdown",
   "metadata": {},
   "source": [
    "### Question 3.3: Observed Loss Function (5 Marks)\n",
    "\n",
    "Complete the `ObservedLoss` class. You can use the assumption that the input loss function will follow the abstract class presented in `./framework/question_3/loss.py`. Thus they will have a well defined `forward` and `backward` function.\n",
    "\n",
    "We further **assume** that input loss function incures no loss contribution when both `predicted` and `target` components are zero, i.e., in the MSE loss function if $ \\hat x_{i} $ and $ x_{i} $ are both zero, you can ignore this index in the summation.\n",
    "\n",
    "Note: there are a number of ways to do this. You might want to use a pen and paper to see how you might want to do this for a single vector in MSE."
   ]
  },
  {
   "cell_type": "code",
   "execution_count": 7,
   "metadata": {},
   "outputs": [],
   "source": [
    "class ObservedLoss(Loss):\n",
    "    \n",
    "    def __init__(self, loss):\n",
    "        self.loss = loss\n",
    "\n",
    "    def forward(self, *xs):\n",
    "        super().forward(xs)\n",
    "        \n",
    "        predicted, target, observed_mask = xs\n",
    "        \n",
    "        ### TODO ###\n",
    "        observed_target = predicted * observed_mask\n",
    "        observed_loss = self.loss.forward(observed_target, target)\n",
    "        ### TODO ###\n",
    "\n",
    "        return observed_loss\n",
    "\n",
    "    def backward(self, g_next_layer=1):\n",
    "        predicted, target, observed_mask = self.input\n",
    "\n",
    "        ### TODO ###\n",
    "        observed_target = predicted * observed_mask\n",
    "        observed_back_grad = self.loss.backward(g_next_layer)\n",
    "        ### TODO ###\n",
    "\n",
    "        \n",
    "        return observed_back_grad"
   ]
  },
  {
   "cell_type": "markdown",
   "metadata": {},
   "source": [
    "Additional to the observed loss class, we also want to include regularization (as per the start of the section). We define the complete loss function as below:"
   ]
  },
  {
   "cell_type": "code",
   "execution_count": 8,
   "metadata": {},
   "outputs": [],
   "source": [
    "def our_loss_gen(encoder_linear, decoder_linear, reg_w=1e-3):\n",
    "    obs_loss = ObservedLoss(MSELoss())\n",
    "    reg_encoder = FrobeniusNorm(encoder_linear)\n",
    "    reg_decoder = FrobeniusNorm(decoder_linear)\n",
    "    \n",
    "    specified_loss = WeightedSumLoss([\n",
    "        (obs_loss, 1.0),\n",
    "        (reg_encoder, reg_w/2),\n",
    "        (reg_decoder, reg_w/2)\n",
    "    ])\n",
    "    \n",
    "    return specified_loss"
   ]
  },
  {
   "cell_type": "markdown",
   "metadata": {},
   "source": [
    "---\n",
    "## Synthetic Training\n",
    "\n",
    "We now have the method for feeding data (the batcher), the model (the recommender neural network), and the loss function (the regularized observed loss). With these 3 components, we can train our recommender system."
   ]
  },
  {
   "cell_type": "markdown",
   "metadata": {},
   "source": [
    "### Question 3.4: Training recommender system for synthetic data (6 Marks)\n",
    "\n",
    "Your task is to complete the following function which trains a recommender autoencoder `AERecommender` for some input data and a corresponding observation mask. You only need to edit the inner loop of the function.\n",
    "\n",
    "Note: You will have to call `update` for the loss function."
   ]
  },
  {
   "cell_type": "code",
   "execution_count": 9,
   "metadata": {},
   "outputs": [],
   "source": [
    "def train_synthetic_recommender(synthetic_data, synthetic_mask,\n",
    "                                seed=None,\n",
    "                                training_epoch=50,\n",
    "                                batch_size=100,\n",
    "                                learning_rate=5e-3,\n",
    "                                synthetic_recommender=our_synthetic_recommender,\n",
    "                                loss_gen=our_loss_gen):\n",
    "    \n",
    "    # As defined in previous questions\n",
    "    autoencoder, encoder_linear, decoder_linear = synthetic_recommender()\n",
    "    loss_func = loss_gen(encoder_linear, decoder_linear)\n",
    "    \n",
    "    make_batch = lambda: MaskBatcher(synthetic_data, synthetic_mask,\n",
    "                                     batch_size=batch_size)\n",
    "    \n",
    "    history = []\n",
    "    \n",
    "    # Initialise\n",
    "    autoencoder.init_weights(seed=seed)\n",
    "    \n",
    "    for e in range(training_epoch):\n",
    "        for xs, masks in make_batch()(seed=seed+e):\n",
    "            \n",
    "            ### TODO ###\n",
    "            xs = xs*masks\n",
    "            reconstructed = autoencoder.forward(xs)\n",
    "            loss_val      = loss_func.forward(reconstructed, xs, masks)\n",
    "            grad          = loss_func.backward()\n",
    "            grad2         = autoencoder.decoder.backward(grad)\n",
    "            autoencoder.encoder.backward(grad2)\n",
    "            autoencoder.encoder.update(learning_rate)\n",
    "            autoencoder.decoder.update(learning_rate)\n",
    "            ### TODO ###\n",
    "            \n",
    "            history.append(loss_val)\n",
    "\n",
    "    return autoencoder, history"
   ]
  },
  {
   "cell_type": "markdown",
   "metadata": {},
   "source": [
    "With everything we can now use our recommender system."
   ]
  },
  {
   "cell_type": "markdown",
   "metadata": {},
   "source": [
    "---\n",
    "## Exploring the synthetic dataset\n",
    "\n",
    "Now that we have all the pieces, we can train and examine how our recommender system works. To do this, we will split our data into a train and test split. The following is an example index range for each of these splits."
   ]
  },
  {
   "cell_type": "code",
   "execution_count": 10,
   "metadata": {},
   "outputs": [
    {
     "name": "stdout",
     "output_type": "stream",
     "text": [
      "7500 2500\n"
     ]
    }
   ],
   "source": [
    "train_index, test_index = train_test_split(range(synthetic_data.shape[0]), random_state=1337)\n",
    "print(len(train_index), len(test_index))"
   ]
  },
  {
   "cell_type": "markdown",
   "metadata": {},
   "source": [
    "The code which you will have to do needs to be generic enough for any set of indices."
   ]
  },
  {
   "cell_type": "markdown",
   "metadata": {},
   "source": [
    "### Question 3.5: Examine the latent space (3 Marks)\n",
    "\n",
    "The task is to examine the latent space. Complete the following function to create a scatter plot of the encoded latent space of the autoencoder recommender, for the test set. Use the default parameters of the `train_synthetic_recommender` function.\n",
    "\n",
    "Colour the encoded points with respect to a k-means classifier (n=2).\n",
    "\n",
    "Make sure the plot is formatted appropriately. You can call each dimension of the latent space as `latent dim 1` and `latent dim 2`."
   ]
  },
  {
   "cell_type": "code",
   "execution_count": 11,
   "metadata": {},
   "outputs": [],
   "source": [
    "from sklearn.cluster import KMeans\n",
    "\n",
    "def plot_latent_autoencoder(synthetic_data, train_index, test_index, percentage,\n",
    "                            seed=None,\n",
    "                            generate_observed_mask=generate_observed_mask,\n",
    "                            train_synthetic_recommender=train_synthetic_recommender):\n",
    "    \n",
    "    ### TODO ###\n",
    "    training_data = synthetic_data[train_index,:]\n",
    "    training_mask = generate_observed_mask(training_data, percentage=percentage, seed=seed)\n",
    "    autoencoder, history = train_synthetic_recommender(training_data, training_mask, seed=seed)\n",
    "    \n",
    "    testing_data = synthetic_data[test_index,:]\n",
    "    \n",
    "    latent_test = autoencoder.encode(testing_data)\n",
    "    kmeans = KMeans(n_clusters=2).fit(latent_test)\n",
    "    ### TODO ###\n",
    "#     plt.scatter(kmeans[:, 0], kmeans[:, 1])\n",
    "    kc1=kmeans.cluster_centers_\n",
    "    y_kmeans=kmeans.predict(latent_test)\n",
    "    plt.scatter(latent_test[:, 0], latent_test[:, 1],c=y_kmeans, cmap='rainbow')\n",
    "    plt.show()"
   ]
  },
  {
   "cell_type": "markdown",
   "metadata": {},
   "source": [
    "The following is code for you to examine the recommender system:"
   ]
  },
  {
   "cell_type": "code",
   "execution_count": 12,
   "metadata": {},
   "outputs": [
    {
     "data": {
      "image/png": "[encoded data removed]",
      "text/plain": [
       "<Figure size 432x288 with 1 Axes>"
      ]
     },
     "metadata": {
      "needs_background": "light"
     },
     "output_type": "display_data"
    }
   ],
   "source": [
    "plot_latent_autoencoder(synthetic_data, train_index, test_index, 0.00, seed=1337)\n",
    "# plot_latent_autoencoder(synthetic_data, train_index, test_index, 0.3, seed=1337)"
   ]
  },
  {
   "cell_type": "markdown",
   "metadata": {},
   "source": [
    "---\n",
    "## Real world data: MovieLens\n",
    "\n",
    "Your last task will be an exploration of a real world dataset, MovieLens. We are using the [100K rating dataset](https://grouplens.org/datasets/movielens/100k/)."
   ]
  },
  {
   "cell_type": "markdown",
   "metadata": {},
   "source": [
    "### Question 3.6 (9 Marks)\n",
    "\n",
    "The final task is to do the following:\n",
    "  1. Recommend a movie by **name** for the user 42;\n",
    "  2. Determine if your recommendation matches other information in the dataset;\n",
    "  3. Recommend a movie for each user and display the recommendation by genre with an appropriate plot.\n",
    "\n",
    "To complete this, you will have to complete the following helper functions first:\n",
    "  1. `your_movie_name`\n",
    "  2. `your_genre_name`\n",
    "  3. `your_movie_genres`\n",
    "  4. `your_movie_recommender`\n",
    "  5. `your_train_movie_recommender`\n",
    "  6. `your_recommend_top`\n",
    "  \n",
    "For these helper functions you will need to read in files. Make sure to use a **relative path**.\n",
    "  \n",
    "For the recommender system `your_movie_recommender` you need to make, follow as we did in the synthetic dataset and only have a single linear layer with a sigmoid activation function for both the encoder and decoder networks.\n",
    "\n",
    "Information about the data:\n",
    "`movielens_data` have data where movies in columns and users in rows.\n",
    "\n",
    "Additional files you may need for the question are found in `./data/question_3`.\n",
    "The description of the files are as follow:\n",
    "\n",
    "```\n",
    "item     -- Information about the items (movies); this is a tab separated\n",
    "            list of\n",
    "            movie id | movie title | release date | video release date |\n",
    "            IMDb URL | unknown | Action | Adventure | Animation |\n",
    "            Children's | Comedy | Crime | Documentary | Drama | Fantasy |\n",
    "            Film-Noir | Horror | Musical | Mystery | Romance | Sci-Fi |\n",
    "            Thriller | War | Western |\n",
    "            The last 19 fields are the genres, a 1 indicates the movie\n",
    "            is of that genre, a 0 indicates it is not; movies can be in\n",
    "            several genres at once.\n",
    "            The movie ids are the ones used in the u.data data set.\n",
    "\n",
    "genre    -- A list of the genres.\n",
    "\n",
    "user     -- Demographic information about the users; this is a tab\n",
    "            separated list of\n",
    "            user id | age | gender | occupation | zip code\n",
    "            The user ids are the ones used in the u.data data set.\n",
    "```"
   ]
  },
  {
   "cell_type": "code",
   "execution_count": 13,
   "metadata": {},
   "outputs": [],
   "source": [
    "MOVIELENS_PATH = './data/question_3/movie_data'\n",
    "\n",
    "movielens_data = read_data(MOVIELENS_PATH)  # 0's signifies missing data"
   ]
  },
  {
   "cell_type": "code",
   "execution_count": 14,
   "metadata": {},
   "outputs": [],
   "source": [
    "def your_movie_name(i):\n",
    "    \"\"\" From movie id to movie name. Does not need to be fast.\n",
    "    \"\"\"\n",
    "    ### TODO ###\n",
    "    PATH = './data/question_3/item'\n",
    "    with open(PATH, 'r') as file:\n",
    "        for line in file:\n",
    "            data_list = line.split('|')\n",
    "            if int(data_list[0]) == i:\n",
    "                name=data_list[1]\n",
    "                break\n",
    "    ### TODO ###\n",
    "\n",
    "    return name"
   ]
  },
  {
   "cell_type": "code",
   "execution_count": 15,
   "metadata": {},
   "outputs": [],
   "source": [
    "def your_genre_name(i):\n",
    "    \"\"\" From genre id to genre name.\n",
    "    \"\"\"\n",
    "    ### TODO ###\n",
    "    PATH = './data/question_3/genre'\n",
    "    with open(PATH, 'r') as file:\n",
    "        for line in file:\n",
    "            data_list = line.split('|')\n",
    "            if int(data_list[1]) == i:\n",
    "                name=data_list[0]\n",
    "                break\n",
    "    ### TODO ###\n",
    "\n",
    "    return name"
   ]
  },
  {
   "cell_type": "code",
   "execution_count": 16,
   "metadata": {},
   "outputs": [],
   "source": [
    "def your_movie_genres(nmovies, ngenres=19):\n",
    "    \"\"\" Make an array of genre information, rows as the movies and columns as indicator values for genres (sorted per data).\n",
    "    \"\"\"\n",
    "    ### TODO ###\n",
    "    PATH = './data/question_3/item'\n",
    "    genre_array = np.zeros((nmovies, ngenres))\n",
    "    with open(PATH, 'r') as file:\n",
    "        for i, line in enumerate(file):\n",
    "            data_list = line.split('|')\n",
    "            genre_array[i,:] = np.array(list(map(int, data_list[-ngenres:])))\n",
    "    ### TODO ###\n",
    "    \n",
    "    return genre_array"
   ]
  },
  {
   "cell_type": "code",
   "execution_count": 17,
   "metadata": {},
   "outputs": [],
   "source": [
    "def your_movie_recommender(nmovies):\n",
    "    ### TODO ###\n",
    "    encoder_linear = Linear(nmovies, 2)\n",
    "    decoder_linear = Linear(2, nmovies)\n",
    "    \n",
    "    my_encoder = Sequential([\n",
    "        encoder_linear,\n",
    "        Sigmoid()\n",
    "    ])\n",
    "    my_decoder = Sequential([\n",
    "        decoder_linear,\n",
    "        Sigmoid()\n",
    "    ])\n",
    "    ### TODO ###\n",
    "\n",
    "    autoencoder = AERecommender(\n",
    "        encoder=my_encoder,\n",
    "        decoder=my_decoder\n",
    "    )\n",
    "\n",
    "    return autoencoder, encoder_linear, decoder_linear\n",
    "    "
   ]
  },
  {
   "cell_type": "code",
   "execution_count": 18,
   "metadata": {},
   "outputs": [],
   "source": [
    "def your_train_movie_recommender(movie_data,\n",
    "                                 nmovies,\n",
    "                                 training_epoch=50,\n",
    "                                 batch_size=100,\n",
    "                                 learning_rate=5e-3,\n",
    "                                 movie_recommender=your_movie_recommender,\n",
    "                                 loss_gen=our_loss_gen,\n",
    "                                 seed=None):\n",
    "\n",
    "    # As defined in previous questions\n",
    "    autoencoder, encoder_linear, decoder_linear = movie_recommender(nmovies)\n",
    "    loss_func = loss_gen(encoder_linear, decoder_linear)\n",
    "    movie_mask = np.zeros_like(movie_data)\n",
    "    movie_mask[movie_data!=0] = 1\n",
    "    \n",
    "    make_batch = lambda: MaskBatcher(movie_data, movie_mask,\n",
    "                                     batch_size=batch_size)\n",
    "    \n",
    "    history = []\n",
    "    \n",
    "    # Initialise\n",
    "    autoencoder.init_weights(seed=seed)\n",
    "    \n",
    "    for e in range(training_epoch):\n",
    "        for xs, masks in make_batch()(seed=seed+e):\n",
    "            \n",
    "            ### TODO ###\n",
    "            reconstructed = autoencoder.forward(xs)\n",
    "            loss_val      = loss_func.forward(reconstructed, xs, masks)\n",
    "            grad          = loss_func.backward()\n",
    "            grad2         = autoencoder.decoder.backward(grad)\n",
    "            autoencoder.encoder.backward(grad2)\n",
    "            autoencoder.encoder.update(learning_rate)\n",
    "            autoencoder.decoder.update(learning_rate)\n",
    "            ### TODO ###\n",
    "            \n",
    "            history.append(loss_val)\n",
    "\n",
    "\n",
    "    return autoencoder, history"
   ]
  },
  {
   "cell_type": "code",
   "execution_count": 19,
   "metadata": {},
   "outputs": [],
   "source": [
    "def your_recommend_top(recommender, x):\n",
    "    \"\"\" Recommends the highest predicted rating of the incomplete columns,\n",
    "        i.e., should not return an item the user has already seen.\n",
    "        This needs to be returned as the column index of the recommended item.\n",
    "        \n",
    "        Should work for vectorised x input.\n",
    "    \"\"\"\n",
    "        \n",
    "    ### TODO ###\n",
    "    rating = recommender.recommend_rating(x)\n",
    "    incomplete = rating-x\n",
    "    top = np.argmax(incomplete)\n",
    "    ### TODO ###\n",
    "\n",
    "    return top"
   ]
  },
  {
   "cell_type": "markdown",
   "metadata": {},
   "source": [
    "**Code for recommendation for user 42**:"
   ]
  },
  {
   "cell_type": "code",
   "execution_count": 20,
   "metadata": {},
   "outputs": [],
   "source": [
    "def recommendation_for_42(movie_dataset,\n",
    "                          movie_name=your_movie_name,\n",
    "                          genre_name=your_genre_name,\n",
    "                          movie_genres=your_movie_genres,\n",
    "                          movie_recommender=your_movie_recommender,\n",
    "                          train_movie_recommender=your_train_movie_recommender,\n",
    "                          recommend_top=your_recommend_top,\n",
    "                          seed=1337):\n",
    "    ### TODO ###\n",
    "    nmovies = movie_dataset.shape[1]\n",
    "    autoencoder, history = train_movie_recommender(movie_dataset,movie_recommender=movie_recommender, nmovies=nmovies,seed=seed)\n",
    "\n",
    "    input_42 = movie_dataset[41,:]\n",
    "    recommend_id = recommend_top(autoencoder, input_42) + 1\n",
    "    recommend_name = movie_name(recommend_id)\n",
    "    ### TODO ###\n",
    "    \n",
    "    return recommend_id, recommend_name"
   ]
  },
  {
   "cell_type": "code",
   "execution_count": 21,
   "metadata": {},
   "outputs": [
    {
     "name": "stdout",
     "output_type": "stream",
     "text": [
      "Recommendation is: Adventures of Robin Hood, The (1938)\n"
     ]
    }
   ],
   "source": [
    "r_id, r_name = recommendation_for_42(movielens_data, seed=1337)\n",
    "print('Recommendation is:', r_name)\n",
    "# print(r_id)"
   ]
  },
  {
   "cell_type": "markdown",
   "metadata": {},
   "source": [
    "**Does the recommendation follow the user's training data? Why?**"
   ]
  },
  {
   "cell_type": "code",
   "execution_count": 22,
   "metadata": {},
   "outputs": [],
   "source": [
    "def user_explore(movie_dataset,\n",
    "                 movie_name=your_movie_name,\n",
    "                 genre_name=your_genre_name,\n",
    "                 movie_genres=your_movie_genres,\n",
    "                 movie_recommender=your_movie_recommender,\n",
    "                 train_movie_recommender=your_train_movie_recommender,\n",
    "                 recommend_top=your_recommend_top,\n",
    "                 seed=1337):\n",
    "    \"\"\"\n",
    "    Determine if your recommendation matches other information in the dataset\n",
    "    \"\"\"\n",
    "    ### TODO ###\n",
    "    nmovies = movie_dataset.shape[1]\n",
    "    genres = movie_genres(nmovies, 19)\n",
    "    moives_42 = movie_dataset[41,:]\n",
    "    movie_score = np.zeros((len(moives_42), 19))\n",
    "    movie_genre = np.zeros((len(moives_42), 19))\n",
    "    for index, item in enumerate(moives_42):\n",
    "        if item!=0:\n",
    "            movie_genre[index,:] = genres[index, :]\n",
    "            movie_score[index,:] = genres[index, :] * item\n",
    "    genre_name_list = [genre_name(i) for i in range(19)]\n",
    "    genre_sum_genre = np.sum(movie_genre, axis=0)\n",
    "    genre_sum_score = np.sum(movie_score, axis=0)\n",
    "    \n",
    "    plt.barh(range(19), genre_sum_genre, height=0.7, color='steelblue', alpha=0.8)\n",
    "    plt.yticks(range(19), genre_name_list)\n",
    "    plt.title(\"Total Number of Movie Genres for User42\")\n",
    "    plt.show()\n",
    "    \n",
    "    plt.barh(range(19), genre_sum_score, height=0.7, color='steelblue', alpha=0.8)\n",
    "    plt.yticks(range(19), genre_name_list)\n",
    "    plt.title(\"Total Score of Movie Genres for User42\")\n",
    "    plt.show()\n",
    "    ### TODO ###\n",
    "    genres_recommendation = []\n",
    "    for index, item in enumerate(genres[r_id-1, :]):\n",
    "        if item==1: \n",
    "            genres_recommendation.append(genre_name_list[index]) \n",
    "    print(f'Genres of Recommendation : {genres_recommendation} ')\n",
    "    \n",
    "    score = np.sum(movie_dataset[:, r_id-1])\n",
    "    n_watched = 0\n",
    "    for i in movie_dataset[:, r_id-1]:\n",
    "        if i != 0 :\n",
    "            n_watched +=1\n",
    "    print(f\"Mean score of recommendation is : {score/n_watched}\")"
   ]
  },
  {
   "cell_type": "code",
   "execution_count": 23,
   "metadata": {},
   "outputs": [
    {
     "data": {
      "image/png": "[encoded data removed]",
      "text/plain": [
       "<Figure size 432x288 with 1 Axes>"
      ]
     },
     "metadata": {
      "needs_background": "light"
     },
     "output_type": "display_data"
    },
    {
     "data": {
      "image/png": "[encoded data removed]",
      "text/plain": [
       "<Figure size 432x288 with 1 Axes>"
      ]
     },
     "metadata": {
      "needs_background": "light"
     },
     "output_type": "display_data"
    },
    {
     "name": "stdout",
     "output_type": "stream",
     "text": [
      "Genres of Recommendation : ['Action', 'Adventure'] \n",
      "Mean score of recommendation is : 2.0\n"
     ]
    }
   ],
   "source": [
    "user_explore(movielens_data, seed=1337)"
   ]
  },
  {
   "cell_type": "raw",
   "metadata": {},
   "source": [
    " In my opinion, the recommendation follows the user's training data. From the plot above, we could find that User42 likes to watch Action, Drama and Children's movies. The recommended movie is in the genres of Action and Adventure. Thus, user42 should be likely to watch the recommended movie. In the other words, the average rate of the recommended movie is 2, which is a high score in the movie dataset, and the highest average rating is 2.5 in the whole movie dataset. Our recommender network would consider the rating of other users, therefore, the action movie with a high rating would be recommended. And this follows the user's training data."
   ]
  },
  {
   "cell_type": "markdown",
   "metadata": {},
   "source": [
    "**Your recommendations and genres**:"
   ]
  },
  {
   "cell_type": "code",
   "execution_count": 24,
   "metadata": {},
   "outputs": [],
   "source": [
    "def recommendation_and_genres(movie_dataset,\n",
    "                              movie_name=your_movie_name,\n",
    "                              genre_name=your_genre_name,\n",
    "                              movie_genres=your_movie_genres,\n",
    "                              movie_recommender=your_movie_recommender,\n",
    "                              train_movie_recommender=your_train_movie_recommender,\n",
    "                              recommend_top=your_recommend_top,\n",
    "                              seed=1337):\n",
    "    \"\"\"\n",
    "    Recommend a movie for each user and display the recommendation by genre with an appropriate plot.\n",
    "    \"\"\"\n",
    "    ### TODO ###\n",
    "    nmovies = movie_dataset.shape[1]\n",
    "    autoencoder, history = train_movie_recommender(movie_dataset,movie_recommender=movie_recommender, nmovies=nmovies,seed=seed)\n",
    "    \n",
    "    genres = movie_genres(nmovies, 19)\n",
    "    recommend_list = []\n",
    "    for i in range(movie_dataset.shape[0]):\n",
    "        this_input = movie_dataset[i,:]\n",
    "        \n",
    "        recommend_id = recommend_top(autoencoder, this_input)\n",
    "#         recommend_name = movie_name(recommend_id)\n",
    "        recommend_list.append(recommend_id)\n",
    "    ### TODO ###\n",
    "    recommend_genre = np.zeros((len(recommend_list), 19))\n",
    "    for index, item in enumerate(recommend_list):\n",
    "        recommend_genre[index,:] = genres[item, :]\n",
    "    genre_name_list = [genre_name(i) for i in range(19)]\n",
    "    genre_y = np.sum(recommend_genre, axis=0)\n",
    "    plt.barh(range(19), genre_y, height=0.7, color='steelblue', alpha=0.8)\n",
    "    plt.yticks(range(19), genre_name_list)\n",
    "    plt.show()"
   ]
  },
  {
   "cell_type": "code",
   "execution_count": 25,
   "metadata": {},
   "outputs": [
    {
     "data": {
      "image/png": "[encoded data removed]",
      "text/plain": [
       "<Figure size 432x288 with 1 Axes>"
      ]
     },
     "metadata": {
      "needs_background": "light"
     },
     "output_type": "display_data"
    }
   ],
   "source": [
    "recommendation_and_genres(movielens_data, seed=1337)"
   ]
  },
  {
   "cell_type": "code",
   "execution_count": null,
   "metadata": {},
   "outputs": [],
   "source": []
  }
 ],
 "metadata": {
  "kernelspec": {
   "display_name": "Python 3",
   "language": "python",
   "name": "python3"
  },
  "language_info": {
   "codemirror_mode": {
    "name": "ipython",
    "version": 3
   },
   "file_extension": ".py",
   "mimetype": "text/x-python",
   "name": "python",
   "nbconvert_exporter": "python",
   "pygments_lexer": "ipython3",
   "version": "3.7.3"
  }
 },
 "nbformat": 4,
 "nbformat_minor": 4
}
